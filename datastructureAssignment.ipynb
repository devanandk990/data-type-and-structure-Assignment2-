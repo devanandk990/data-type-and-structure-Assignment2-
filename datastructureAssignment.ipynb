{
  "nbformat": 4,
  "nbformat_minor": 0,
  "metadata": {
    "colab": {
      "provenance": []
    },
    "kernelspec": {
      "name": "python3",
      "display_name": "Python 3"
    },
    "language_info": {
      "name": "python"
    }
  },
  "cells": [
    {
      "cell_type": "markdown",
      "source": [],
      "metadata": {
        "id": "Uj6bncvR_iiD"
      }
    },
    {
      "cell_type": "markdown",
      "source": [
        "\"Theory Question\""
      ],
      "metadata": {
        "id": "pPvcQw4G9Rz2"
      }
    },
    {
      "cell_type": "markdown",
      "source": [
        "Ques1. What are data structures, and why are they important?\n",
        "\n",
        "  Ans-> data structure is way to manage, organize and manipulate data in efficient way\n",
        "  \n",
        "  -> this is important b/c it takes less spaces, it takes less time to execute,\n",
        "  different data have different data type but we can store these data into a single variable isted of using multiple variable\n",
        "\n",
        "Ques2.  Explain the difference between mutable and immutable data types with examples\n",
        "\n",
        "Ans-> the main difference is mutable data type can change their content but immutable data type can't change their content\n",
        "\n",
        ".Ex-> list and dictionary,set is mutable but string,tuple is immutable\n",
        "\n",
        "Ques3. What are the main differences between lists and tuples in Python?\n",
        "\n",
        "Ans-> the main difference is lists are mutable it can change the value but tuple are immutable it can not change the value after initialization.\n",
        "\n",
        "Ques4. Describe how dictionaries store data?\n",
        "\n",
        "Ans-> dictionary are store data in querly braces and inside the bracket the data are stored with the help of \"keys\" and \"value\" pair.\n",
        "\n",
        "Ques5. Why might you use a set instead of a list in Python?\n",
        "\n",
        "Ans-> b/c set stored unique element duplicate data automatically removed but list does't stored unique element\n",
        "\n",
        "Ques6.  What is a string in Python, and how is it different from a list?\n",
        "\n",
        "Ans-> string is a sequence of character inside the single and double quote\n",
        "\n",
        ". strings are different from list b/c it is collection of character but list are of any types like int,float, event string etc and second difference is string is immutable but list is muttable\n",
        "\n",
        "Ques7.how do tuple ensur data intigrity in python?\n",
        "\n",
        "Ans-> Tuples ensure data integrity in Python due to their immutability. Once a tuple is created, its elements cannot be changed, added, or removed. This property guarantees that the data stored within a tuple remains constant throughout the program's execution, preventing accidental or unintended modifications. This is particularly useful for representing fixed collections of data, like coordinates, configuration settings, or database records where the values should not be altered.\n",
        "\n",
        "Ques8. What is a hash table, and how does it relate to dictionaries in Python?\n",
        "\n",
        "Ans-> A hash table (also known as a hash map) is a data structure that stores data as key-value pairs. It uses a hash function to map keys to specific indices (buckets) within an array. This allows for efficient retrieval of values based on their corresponding keys, ideally in constant time (O(1)).\n",
        "\n",
        "\n",
        "Python's built-in dictionaries are implemented using hash tables. When you store a key-value pair in a dictionary, Python calculates a hash value for the key and uses this hash to determine where to store the pair in the underlying hash table. When you retrieve a value using a key, Python again calculates the key's hash to quickly locate the corresponding value.\n",
        "\n",
        "Ques9. Can lists contain different data types in Python?\n",
        "\n",
        "Ans-> yes, list can contain different data type like string ,integer,float,complex no etc.\n",
        "\n",
        "Ques10  Explain why strings are immutable in Python.\n",
        "\n",
        "Ans-> strings are immutable b/c once a string created it can't change. any operation that appear to modify a string like concatination,replacement then new string object created original value remains same.\n",
        "\n",
        "Q11 What advantages do dictionaries offer over lists for certain tasks?\n",
        "\n",
        "Ans-> the value stored in dictionary both key and its value,but in list only elements are stored in sequential order\n",
        "\n",
        "Ques12 Describe a scenario where using a tuple would be preferable over a list\n",
        "\n",
        "Ans-> like aadhar card, atm number,pan number,and all senstive data which we don't need to change in future which means ones it is created it doesn't change.\n",
        "\n",
        "Ques13.  How do sets handle duplicate values in Python?\n",
        "\n",
        "Ans-> set simply remove the duplicate b/c set store only unique values .\n",
        "\n",
        "Ques14.  How does the “in” keyword work differently for lists and dictionaries?\n",
        "\n",
        "Ans->  \"in\" keyword to work in list to find the specfic element in the list whereas in dictionary \"in\" keyword work to find the \"key\" and \"value\"\n",
        "\n",
        "Ques15. can you modify the element of tuple? explain wht or why not\n",
        "\n",
        "Ans->  No, the elements of a tuple cannot be modified directly after the tuple has been created. This is because tuples are immutable data structures in Python.\n",
        "\n",
        "Ques16. What is a nested dictionary, and give an example of its use case?\n",
        "\n",
        "Ans-> A nested dictionary is a dictionary where the values associated with one or more keys are themselves dictionaries. This structure allows for the representation of hierarchical or multi-level data, where information can be organized in a more complex and structured manner than a simple key-value pair.\n",
        "\n",
        ". example of usecase->  A common use case for nested dictionaries is storing and organizing data that has a clear hierarchical relationship, such as a database of students in a school, where each student has multiple attributes.\n",
        "Consider managing student records in a school. Each student has a unique ID, and for each student, there are various details like name, age, and a list of subjects with their corresponding grades. This can be represented effectively using a nested dictionary:\n",
        "\n",
        "Ques17.  Describe the time complexity of accessing elements in a dictionary?\n",
        "\n",
        "Ans->    The time complexity of accessing elements in a dictionary is typically O(1) on average. This means that the time taken to retrieve a value by its key is constant and does not depend on the size of the dictionary. This efficiency is achieved because dictionaries are implemented as hash tables.\n",
        "\n",
        "Ques18.  In what situations are lists preferred over dictionaries?\n",
        "\n",
        "Ans-> list are prefered where order matter,sequential process,simple data storage etc\n",
        "\n",
        "Ques19. Why are dictionaries considered unordered, and how does that affect data retrieval?\n",
        "Dictionaries are considered \"unordered\" because their primary purpose is fast, key-based retrieval of values, not sequential access or preservation of insertion order.\n",
        "\n",
        ".how does that affect data retirival?  -> key based access is etential,no position based retrival, etc\n",
        "\n",
        "Ques20. Explain the difference between a list and a dictionary in terms of data retrieval.\n",
        "\n",
        "Ans-> List data retrival-> we can retrive data through \"order collection\", 'index based retrival', sequential search\n",
        "\n",
        ". distionary data retrival-> we can retrive data through \"keys valu pairs\", 'keys based retrival',hasing for efficient"
      ],
      "metadata": {
        "id": "vJEk27Wo_pGR"
      }
    },
    {
      "cell_type": "markdown",
      "source": [
        "practical **question**"
      ],
      "metadata": {
        "id": "ojjWOysQ9Ga2"
      }
    },
    {
      "cell_type": "code",
      "execution_count": null,
      "metadata": {
        "colab": {
          "base_uri": "https://localhost:8080/"
        },
        "id": "CBA6puyKsu-J",
        "outputId": "74181881-8e8c-40be-b31f-6210326c9adb"
      },
      "outputs": [
        {
          "output_type": "stream",
          "name": "stdout",
          "text": [
            "Dev Rathore\n"
          ]
        }
      ],
      "source": [
        "#Ques1. Write a code to create a string with your name and print it\n",
        "name=\"Dev Rathore\"\n",
        "print(name)"
      ]
    },
    {
      "cell_type": "code",
      "source": [
        "#Ques2. Write a code to find the length of the string \"Hello World\"\n",
        "str=\"Hello World\"\n",
        "print(len(str))"
      ],
      "metadata": {
        "colab": {
          "base_uri": "https://localhost:8080/"
        },
        "id": "o0QykZtiu38a",
        "outputId": "7c394811-ef27-462c-b210-b71e412b1d03"
      },
      "execution_count": null,
      "outputs": [
        {
          "output_type": "stream",
          "name": "stdout",
          "text": [
            "11\n"
          ]
        }
      ]
    },
    {
      "cell_type": "code",
      "source": [
        "#Ques3. Write a code to slice the first 3 characters from the string \"Python Programming\"\n",
        "str=\"Python Programming\"\n",
        "print(str[:3])"
      ],
      "metadata": {
        "colab": {
          "base_uri": "https://localhost:8080/"
        },
        "id": "xH68-CmBvf5y",
        "outputId": "94c08b62-7a59-46c6-e483-26d413999b7c"
      },
      "execution_count": null,
      "outputs": [
        {
          "output_type": "stream",
          "name": "stdout",
          "text": [
            "Pyt\n"
          ]
        }
      ]
    },
    {
      "cell_type": "code",
      "source": [
        "#Ques4. Write a code to convert the string \"hello\" to uppercase\n",
        "\n",
        "str=\"hello\"\n",
        "print(str.upper())"
      ],
      "metadata": {
        "colab": {
          "base_uri": "https://localhost:8080/"
        },
        "id": "KKHDiIk0wfOs",
        "outputId": "ecd1bdc0-0dee-4414-929d-03d8e0ff57fd"
      },
      "execution_count": null,
      "outputs": [
        {
          "output_type": "stream",
          "name": "stdout",
          "text": [
            "HELLO\n"
          ]
        }
      ]
    },
    {
      "cell_type": "code",
      "source": [
        "# Ques5.Write a code to replace the word \"apple\" with \"orange\" in the string \"I like apple\"\n",
        "str= \" I like apple\"\n",
        "print(str)\n",
        "print(str.replace(\"apple\",\"orange\"))"
      ],
      "metadata": {
        "colab": {
          "base_uri": "https://localhost:8080/"
        },
        "id": "2lY_-3A7x_KP",
        "outputId": "a3870970-9caf-42a3-f9ed-51198aec896f"
      },
      "execution_count": null,
      "outputs": [
        {
          "output_type": "stream",
          "name": "stdout",
          "text": [
            " I like apple\n",
            " I like orange\n"
          ]
        }
      ]
    },
    {
      "cell_type": "code",
      "source": [
        "#Ques6.  Write a code to create a list with numbers 1 to 5 and print.\n",
        "list=[1,2,3,4,5]\n",
        "print(list)"
      ],
      "metadata": {
        "colab": {
          "base_uri": "https://localhost:8080/"
        },
        "id": "U6pHFwQoyz7B",
        "outputId": "e8919757-6430-4bf7-d1cc-a6f93e502c35"
      },
      "execution_count": null,
      "outputs": [
        {
          "output_type": "stream",
          "name": "stdout",
          "text": [
            "[1, 2, 3, 4, 5]\n"
          ]
        }
      ]
    },
    {
      "cell_type": "code",
      "source": [
        "# Ques7. Write a code to append the number 10 to the list [1, 2, 3, 4].\n",
        "list=[1,2,3,4,]\n",
        "print(list,\"\\n\"+\"after operation\")\n",
        "list.append(10)\n",
        "print(list)"
      ],
      "metadata": {
        "colab": {
          "base_uri": "https://localhost:8080/"
        },
        "id": "J1WHw2VU0HHE",
        "outputId": "698ab46e-3359-4f7a-92a6-385e9daba584"
      },
      "execution_count": null,
      "outputs": [
        {
          "output_type": "stream",
          "name": "stdout",
          "text": [
            "[1, 2, 3, 4] \n",
            "after operation\n",
            "[1, 2, 3, 4, 10]\n"
          ]
        }
      ]
    },
    {
      "cell_type": "code",
      "source": [
        "#Ques8. Write a code to remove the number 3 from the list [1, 2, 3, 4, 5].\n",
        "list=[1,2,3,4,5]\n",
        "print(list,\"\\n\"+\"after operation\"+)\n",
        "list.remove(3)\n",
        "print(list)"
      ],
      "metadata": {
        "colab": {
          "base_uri": "https://localhost:8080/"
        },
        "outputId": "b580419e-478f-4a06-8ff6-7866cd4d5292",
        "id": "KDemVeVP1_Z0"
      },
      "execution_count": null,
      "outputs": [
        {
          "output_type": "stream",
          "name": "stdout",
          "text": [
            "[1, 2, 3, 4, 5] \n",
            "after operation\n",
            "\n",
            "[1, 2, 4, 5]\n"
          ]
        }
      ]
    },
    {
      "cell_type": "code",
      "source": [
        "#Ques8. Write a code to remove the number 3 from the list [1, 2, 3, 4, 5].\n",
        "list=[1,2,3,4,5]\n",
        "print(list,\"\\n\"+\"after operation\"+)\n",
        "list.remove(3)\n",
        "print(list)"
      ],
      "metadata": {
        "colab": {
          "base_uri": "https://localhost:8080/"
        },
        "outputId": "b580419e-478f-4a06-8ff6-7866cd4d5292",
        "id": "PPQyKgMF184c"
      },
      "execution_count": null,
      "outputs": [
        {
          "output_type": "stream",
          "name": "stdout",
          "text": [
            "[1, 2, 3, 4, 5] \n",
            "after operation\n",
            "\n",
            "[1, 2, 4, 5]\n"
          ]
        }
      ]
    },
    {
      "cell_type": "code",
      "source": [
        "#Ques8. Write a code to remove the number 3 from the list [1, 2, 3, 4, 5].\n",
        "list=[1,2,3,4,5]\n",
        "print(list,\"\\n\"+\"after operation\")\n",
        "list.remove(3)\n",
        "print(list)"
      ],
      "metadata": {
        "colab": {
          "base_uri": "https://localhost:8080/"
        },
        "id": "Csa87DhN0k9M",
        "outputId": "b580419e-478f-4a06-8ff6-7866cd4d5292"
      },
      "execution_count": null,
      "outputs": [
        {
          "output_type": "stream",
          "name": "stdout",
          "text": [
            "[1, 2, 3, 4, 5] \n",
            "after operation\n",
            "\n",
            "[1, 2, 4, 5]\n"
          ]
        }
      ]
    },
    {
      "cell_type": "code",
      "source": [
        "#Ques9. Write a code to access the second element in the list ['a', 'b', 'c', 'd']\n",
        "list=['a','b','c','d']\n",
        "print(list[1])"
      ],
      "metadata": {
        "colab": {
          "base_uri": "https://localhost:8080/"
        },
        "id": "UgAd2mNI1GmT",
        "outputId": "44ec3dd2-101c-49f2-b569-cd7dec4acfdf"
      },
      "execution_count": null,
      "outputs": [
        {
          "output_type": "stream",
          "name": "stdout",
          "text": [
            "b\n"
          ]
        }
      ]
    },
    {
      "cell_type": "code",
      "source": [
        "#QUes10. Write a code to reverse the list [10, 20, 30, 40, 50]\n",
        "list=[10,20,30,40,50,]\n",
        "list.reverse()\n",
        "print(list,\"\\n\"+\"or\")\n",
        "list[:-1]\n",
        "print(list)"
      ],
      "metadata": {
        "colab": {
          "base_uri": "https://localhost:8080/"
        },
        "id": "XkHGSt552tvu",
        "outputId": "1e399f7b-c418-4fba-d987-9789ff9b0029"
      },
      "execution_count": null,
      "outputs": [
        {
          "output_type": "stream",
          "name": "stdout",
          "text": [
            "[50, 40, 30, 20, 10] \n",
            "or\n",
            "[50, 40, 30, 20, 10]\n"
          ]
        }
      ]
    },
    {
      "cell_type": "code",
      "source": [
        " #Ques11. Write a code to create a tuple with the elements 100, 200, 300 and print it\n",
        " tuple=(100,200,300)\n",
        " print(tuple)"
      ],
      "metadata": {
        "colab": {
          "base_uri": "https://localhost:8080/"
        },
        "id": "7D-QcW6c3W9W",
        "outputId": "2b7b5b96-76d9-4de5-b1e8-597a725be478"
      },
      "execution_count": null,
      "outputs": [
        {
          "output_type": "stream",
          "name": "stdout",
          "text": [
            "(100, 200, 300)\n"
          ]
        }
      ]
    },
    {
      "cell_type": "code",
      "source": [
        "# Ques12.  Write a code to access the second-to-last element of the tuple ('red', 'green', 'blue', 'yellow').\n",
        "tuple=('red','green','blue','yellow')\n",
        "tuple[1:]"
      ],
      "metadata": {
        "colab": {
          "base_uri": "https://localhost:8080/"
        },
        "id": "gXqCUhfj4g7_",
        "outputId": "54408882-576f-4b09-abc4-b8fd8952a46d"
      },
      "execution_count": null,
      "outputs": [
        {
          "output_type": "execute_result",
          "data": {
            "text/plain": [
              "('green', 'blue', 'yellow')"
            ]
          },
          "metadata": {},
          "execution_count": 32
        }
      ]
    },
    {
      "cell_type": "code",
      "source": [
        "#Ques13. Write a code to find the minimum number in the tuple (10, 20, 5, 15)\n",
        "tuple=(10,20,5,15)\n",
        "minimumtuple=min(tuple)\n",
        "print(minimumtuple)"
      ],
      "metadata": {
        "colab": {
          "base_uri": "https://localhost:8080/"
        },
        "id": "QhRu9Sj95N85",
        "outputId": "976f0e66-9b30-4bdc-c7f7-1911bc8d996e"
      },
      "execution_count": null,
      "outputs": [
        {
          "output_type": "stream",
          "name": "stdout",
          "text": [
            "5\n"
          ]
        }
      ]
    },
    {
      "cell_type": "code",
      "source": [
        " #ques14. Write a code to find the index of the element \"cat\" in the tuple ('dog', 'cat', 'rabbit')\n",
        " tuple=('dog','cat','rabbit')\n",
        "tup=tuple.index(\"cat\")\n",
        "print(tup)"
      ],
      "metadata": {
        "colab": {
          "base_uri": "https://localhost:8080/"
        },
        "id": "v2lASbps5weh",
        "outputId": "4c4870d4-f60f-4b2f-a80a-7ae6de5cc6b9"
      },
      "execution_count": null,
      "outputs": [
        {
          "output_type": "stream",
          "name": "stdout",
          "text": [
            "1\n"
          ]
        }
      ]
    },
    {
      "cell_type": "code",
      "source": [
        "# Ques 15. Write a code to create a tuple containing three different fruits and check if \"kiwi\" is in it.\n",
        "tuple=('apple','banana','kiwi','grapes')\n",
        "\n",
        "if ('kiwi' in tuple):\n",
        "    print(\"kiwi is present in the tuple list\")\n",
        "else:\n",
        "    print(\"kiwi is not present\")\n",
        "\n",
        "\n"
      ],
      "metadata": {
        "colab": {
          "base_uri": "https://localhost:8080/"
        },
        "id": "IC01fYzs7c1z",
        "outputId": "4487f33d-95c8-42c6-8bbe-0c5eaef68a52"
      },
      "execution_count": null,
      "outputs": [
        {
          "output_type": "stream",
          "name": "stdout",
          "text": [
            "kiwi is present in the tuple list\n"
          ]
        }
      ]
    },
    {
      "cell_type": "code",
      "source": [
        "#Q16 Write a code to create a set with the elements 'a', 'b', 'c' and print it\n",
        "set={'A','B','C'}\n",
        "print(set)"
      ],
      "metadata": {
        "colab": {
          "base_uri": "https://localhost:8080/"
        },
        "id": "7WFFnRXW-esM",
        "outputId": "c9f36e3b-c225-43b3-8349-4b261253f3ec"
      },
      "execution_count": null,
      "outputs": [
        {
          "output_type": "stream",
          "name": "stdout",
          "text": [
            "{'B', 'A', 'C'}\n"
          ]
        }
      ]
    },
    {
      "cell_type": "code",
      "source": [
        "#17 Write a code to clear all elements from the set {1, 2, 3, 4, 5}\n",
        "set={1,2,3,4,5}\n",
        "print(set.clear)\n"
      ],
      "metadata": {
        "colab": {
          "base_uri": "https://localhost:8080/"
        },
        "id": "tZFMKw2ZBHs-",
        "outputId": "90c5105f-6ada-4606-cded-37cf9769cfc1"
      },
      "execution_count": null,
      "outputs": [
        {
          "output_type": "stream",
          "name": "stdout",
          "text": [
            "<built-in method clear of set object at 0x78c7913cd9a0>\n"
          ]
        }
      ]
    },
    {
      "cell_type": "code",
      "source": [
        "#Q18. Write a code to remove the element 4 from the set {1, 2, 3, 4}\n",
        "set={1,2,3,4}\n",
        "print(set,\"\\n\"+\"after operation\")\n",
        "set.remove(4)\n",
        "print(set)"
      ],
      "metadata": {
        "colab": {
          "base_uri": "https://localhost:8080/"
        },
        "id": "Ii71bWWhBaH-",
        "outputId": "0d2a53ac-6066-4da6-d464-40b8f5874825"
      },
      "execution_count": null,
      "outputs": [
        {
          "output_type": "stream",
          "name": "stdout",
          "text": [
            "{1, 2, 3, 4} \n",
            "after operation\n",
            "{1, 2, 3}\n"
          ]
        }
      ]
    },
    {
      "cell_type": "code",
      "source": [
        "#Q 19.  Write a code to find the union of two sets {1, 2, 3} and {3, 4, 5}.\n",
        "set1={1,2,3}\n",
        "set2={3,4,5}\n",
        "setunion= set1 | set2\n",
        "print(setunion)"
      ],
      "metadata": {
        "colab": {
          "base_uri": "https://localhost:8080/"
        },
        "id": "BzZ761WrC2xv",
        "outputId": "39c19022-a0e6-47a8-804a-2fd6db4346fc"
      },
      "execution_count": null,
      "outputs": [
        {
          "output_type": "stream",
          "name": "stdout",
          "text": [
            "{1, 2, 3, 4, 5}\n"
          ]
        }
      ]
    },
    {
      "cell_type": "code",
      "source": [
        "#Q20.  Write a code to find the union of two sets {1, 2, 3} and {3, 4, 5}.\n",
        "set1={1,2,3}\n",
        "set2={3,4,5}\n",
        "setintersection= set1 & set2\n",
        "print(setintersection)"
      ],
      "metadata": {
        "colab": {
          "base_uri": "https://localhost:8080/"
        },
        "outputId": "084db8f2-c7c4-4e99-a4c9-0378298b1edf",
        "id": "STapEpmQDxC2"
      },
      "execution_count": null,
      "outputs": [
        {
          "output_type": "stream",
          "name": "stdout",
          "text": [
            "{3}\n"
          ]
        }
      ]
    },
    {
      "cell_type": "code",
      "source": [
        "#Q21 Write a code to create a dictionary with the keys \"name\", \"age\", and \"city\", and print it\n",
        "\n",
        "dict={\"name\":\"Dev rathore\",\"age\":24,\"city\":\"patna\"}\n",
        "print(dict)"
      ],
      "metadata": {
        "colab": {
          "base_uri": "https://localhost:8080/"
        },
        "id": "joGJailaD5o-",
        "outputId": "876e4524-7e3a-4e23-a355-0aaab472362c"
      },
      "execution_count": null,
      "outputs": [
        {
          "output_type": "stream",
          "name": "stdout",
          "text": [
            "{'name': 'Dev rathore', 'age': 24, 'city': 'patna'}\n"
          ]
        }
      ]
    },
    {
      "cell_type": "code",
      "source": [
        "# Q22 write a code to add a new key-value pair \"country\": \"USA\" to the dictionary {'name': 'John', 'age': 25}\n",
        "dictionary= {'name': 'John', 'age': 25}\n",
        "dictionary['country']=\"USA\"\n",
        "print(dictionary)"
      ],
      "metadata": {
        "colab": {
          "base_uri": "https://localhost:8080/"
        },
        "id": "Z1qagRbXkDec",
        "outputId": "4346ba0e-269c-4764-e5ee-95cd8aac43a6"
      },
      "execution_count": null,
      "outputs": [
        {
          "output_type": "stream",
          "name": "stdout",
          "text": [
            "{'name': 'John', 'age': 25, 'country': 'USA'}\n"
          ]
        }
      ]
    },
    {
      "cell_type": "code",
      "source": [
        "#q23 Write a code to access the value associated with the key \"name\" in the dictionary {'name': 'Alice', 'age': 23}\n",
        "dictionary= {'name': 'Alice', 'age': 30}\n",
        "print(dictionary[\"name\"])\n"
      ],
      "metadata": {
        "colab": {
          "base_uri": "https://localhost:8080/"
        },
        "id": "UHT8KnoDk2yT",
        "outputId": "fb68319f-0cd6-409e-c3bd-1b72bffe4193"
      },
      "execution_count": null,
      "outputs": [
        {
          "output_type": "stream",
          "name": "stdout",
          "text": [
            "Alice\n"
          ]
        }
      ]
    },
    {
      "cell_type": "code",
      "source": [
        "#Q24  Write a code to remove the key \"age\" from the dictionary {'name': 'Bob', 'age': 22, 'city': 'New York'}\n",
        "dictionary ={'name': 'Bob', 'age': 22, 'city': 'New York'}\n",
        "print(dictionary.pop(\"age\"))\n",
        "\n",
        "print(dictionary)"
      ],
      "metadata": {
        "colab": {
          "base_uri": "https://localhost:8080/"
        },
        "id": "Lurk-ZM1mX_B",
        "outputId": "5e8dc4a5-5b0e-47eb-bdc2-04f41e8bbbde"
      },
      "execution_count": null,
      "outputs": [
        {
          "output_type": "stream",
          "name": "stdout",
          "text": [
            "22\n",
            "{'name': 'Bob', 'city': 'New York'}\n"
          ]
        }
      ]
    },
    {
      "cell_type": "code",
      "source": [
        "#Q25. Write a code to check if the key \"city\" exists in the dictionary {'name': 'Alice', 'city': 'Paris'}\n",
        "dictionary= {'name': 'Alice', 'city': 'Paris'}\n",
        "if 'city'in dictionary:\n",
        "  print(\"city exists in the dictionary\")\n",
        "else:\n",
        "  print(\"city doesn't exits in dictionary\")"
      ],
      "metadata": {
        "colab": {
          "base_uri": "https://localhost:8080/"
        },
        "id": "WaT4swznn38v",
        "outputId": "6b460bc9-3097-48ee-dabc-591a7e000bd4"
      },
      "execution_count": null,
      "outputs": [
        {
          "output_type": "stream",
          "name": "stdout",
          "text": [
            "city exists in the dictionary\n"
          ]
        }
      ]
    },
    {
      "cell_type": "code",
      "source": [
        "# Q26. Write a code to create a list, a tuple, and a dictionary, and print them all\n",
        "list=[2,4.5,\"dev\",True]\n",
        "tuple=(3,6,\"shriyam\",7.5)\n",
        "dict={\"name\":\"dev\",\"pin code\":232322,\"city\":\"patna\"}\n",
        "print(list)\n",
        "print(tuple)\n",
        "print(dict)"
      ],
      "metadata": {
        "id": "rQf6yqLlpgIB",
        "colab": {
          "base_uri": "https://localhost:8080/"
        },
        "outputId": "5fef36ca-eb2e-4c5d-c8bd-c12f0ae00625"
      },
      "execution_count": 3,
      "outputs": [
        {
          "output_type": "stream",
          "name": "stdout",
          "text": [
            "[2, 4.5, 'dev', True]\n",
            "(3, 6, 'shriyam', 7.5)\n",
            "{'name': 'dev', 'pin code': 232322, 'city': 'patna'}\n"
          ]
        }
      ]
    },
    {
      "cell_type": "code",
      "source": [
        "#Q27. Write a code to create a list of 5 random numbers between 1 and 100, sort it in ascending order, and print the\n",
        "#result.(replaced)\n",
        "list=[23,35,11,7,55,77,47]\n",
        "list.sort()\n",
        "print(list)\n"
      ],
      "metadata": {
        "colab": {
          "base_uri": "https://localhost:8080/"
        },
        "id": "XMWyxvqev26T",
        "outputId": "b0603620-53b2-4ccf-8e6f-c88eab49762c"
      },
      "execution_count": 9,
      "outputs": [
        {
          "output_type": "stream",
          "name": "stdout",
          "text": [
            "[7, 11, 23, 35, 47, 55, 77]\n"
          ]
        }
      ]
    },
    {
      "cell_type": "code",
      "source": [
        "# Q28. Write a code to create a list with strings and print the element at the third index\n",
        "list=[\"apple\",\"banana\",\"grapes\",\"papaya\"]\n",
        "list[3]"
      ],
      "metadata": {
        "colab": {
          "base_uri": "https://localhost:8080/",
          "height": 36
        },
        "id": "Obw8R0VMw_4g",
        "outputId": "6986447a-b1d6-45f1-a581-958cf76ac102"
      },
      "execution_count": 11,
      "outputs": [
        {
          "output_type": "execute_result",
          "data": {
            "text/plain": [
              "'papaya'"
            ],
            "application/vnd.google.colaboratory.intrinsic+json": {
              "type": "string"
            }
          },
          "metadata": {},
          "execution_count": 11
        }
      ]
    },
    {
      "cell_type": "code",
      "source": [
        "#Q29. Write a code to combine two dictionaries into one and print the result.\n",
        "dict={\"name\":\"dev\",\"city\":\"patna\",\"mob no\":66744838}\n",
        "dict1={\"emp id\":103,\"job\":\"data scintist\",\"location\":\"benglor\",\"salary\":\"15Lpa\"}\n",
        "dict.update(dict1)\n",
        "print(dict)"
      ],
      "metadata": {
        "colab": {
          "base_uri": "https://localhost:8080/"
        },
        "id": "XXcGarzPy0To",
        "outputId": "d41a5443-b5f9-44ac-a603-189a37278fa8"
      },
      "execution_count": 13,
      "outputs": [
        {
          "output_type": "stream",
          "name": "stdout",
          "text": [
            "{'name': 'dev', 'city': 'patna', 'mob no': 66744838, 'emp id': 103, 'job': 'data scintist', 'location': 'benglor', 'salary': '15Lpa'}\n"
          ]
        }
      ]
    },
    {
      "cell_type": "code",
      "source": [
        "#Q30. Write a code to convert a list of strings into a set\n",
        "list=[\"tea\",\"coffee\",\"coldrink\",\"coffee\"]\n",
        "set(list)"
      ],
      "metadata": {
        "colab": {
          "base_uri": "https://localhost:8080/"
        },
        "id": "kvMOv9LD0htq",
        "outputId": "7c0696bb-a3b8-419a-a9dd-de37401a48ec"
      },
      "execution_count": 14,
      "outputs": [
        {
          "output_type": "execute_result",
          "data": {
            "text/plain": [
              "{'coffee', 'coldrink', 'tea'}"
            ]
          },
          "metadata": {},
          "execution_count": 14
        }
      ]
    },
    {
      "cell_type": "code",
      "source": [],
      "metadata": {
        "id": "3w8BC8Mp9BfN"
      },
      "execution_count": null,
      "outputs": []
    }
  ]
}